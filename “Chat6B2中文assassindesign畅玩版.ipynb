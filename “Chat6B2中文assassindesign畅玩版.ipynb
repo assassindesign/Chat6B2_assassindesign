{
  "cells": [
    {
      "cell_type": "markdown",
      "metadata": {
        "id": "view-in-github",
        "colab_type": "text"
      },
      "source": [
        "<a href=\"https://colab.research.google.com/github/assassindesign/Chat6B2_assassindesign/blob/main/%E2%80%9CChat6B2%E4%B8%AD%E6%96%87assassindesign%E7%95%85%E7%8E%A9%E7%89%88.ipynb\" target=\"_parent\"><img src=\"https://colab.research.google.com/assets/colab-badge.svg\" alt=\"Open In Colab\"/></a>"
      ]
    },
    {
      "cell_type": "markdown",
      "source": [
        "# 修改两部分，每次重新下载git后都需要修改：\n",
        "\n",
        "**1、开头模型加载部分：**\n",
        "\n",
        "tokenizer = AutoTokenizer.from_pretrained(\"chatglm2-6b-int4\", trust_remote_code=True)\n",
        "model = AutoModel.from_pretrained(\"chatglm2-6b-int4\", trust_remote_code=True).half().cuda()\n",
        "model = model.eval()\n",
        "\n",
        "**2、结尾浏览器启动设置：**\n",
        "\n",
        "demo.queue().launch(share=True, inbrowser=True)\n",
        "\n"
      ],
      "metadata": {
        "id": "aLQXWHz-SRDq"
      }
    },
    {
      "cell_type": "code",
      "execution_count": null,
      "metadata": {
        "id": "TK1SrcRvhlxX",
        "cellView": "form"
      },
      "outputs": [],
      "source": [
        "#@title 1、基础安装，以及下载模型，为了节省空间这里使用int4压缩后的模型\n",
        "%cd /content\n",
        "import os\n",
        "from google.colab.output import eval_js\n",
        "os.environ['colab_url'] = eval_js(\"google.colab.kernel.proxyPort(7860, {'cache': false})\")\n",
        "\n",
        "# 下载项目源代码\n",
        "!git clone https://github.com/THUDM/ChatGLM2-6B\n",
        "# 切换到项目根目录\n",
        "%cd ChatGLM2-6B\n",
        "# 安装依赖\n",
        "!pip install -r requirements.txt\n",
        "# 安装web依赖\n",
        "!pip install gradio\n",
        "#加载模型\n",
        "!git lfs install\n",
        "!git clone https://huggingface.co/THUDM/chatglm2-6b-int4"
      ]
    },
    {
      "cell_type": "code",
      "execution_count": null,
      "metadata": {
        "id": "yJ_92galrOqy",
        "cellView": "form",
        "colab": {
          "base_uri": "https://localhost:8080/"
        },
        "outputId": "67069e2b-22cf-4c5e-bcea-18a6feebf088"
      },
      "outputs": [
        {
          "output_type": "stream",
          "name": "stdout",
          "text": [
            "cuda文件拷贝完成\n"
          ]
        }
      ],
      "source": [
        "#@title 2、将cuda文件，两个环境路径填入代码块，并运行\n",
        "cuda_file_path = \"/usr/local/cuda-11.8/compat/libcuda.so.1\" #@param {type:\"string\"}\n",
        "environment_path1 = \"/usr/local/nvidia/lib\" #@param {type:\"string\"}\n",
        "environment_path2 = \"/usr/local/nvidia/lib64\" #@param {type:\"string\"}\n",
        "\n",
        "import os\n",
        "\n",
        "!mkdir -p {environment_path1}\n",
        "!mkdir -p {environment_path2}\n",
        "\n",
        "!cp -p {cuda_file_path} {environment_path1}\n",
        "!cp -p {cuda_file_path} {environment_path2}\n",
        "\n",
        "print(\"cuda文件拷贝完成\")"
      ]
    },
    {
      "cell_type": "markdown",
      "source": [
        "# 修改两部分，每次重新下载git后都需要修改：\n",
        "\n",
        "**1、开头模型加载部分：**\n",
        "\n",
        "tokenizer = AutoTokenizer.from_pretrained(\"chatglm2-6b-int4\", trust_remote_code=True)\n",
        "model = AutoModel.from_pretrained(\"chatglm2-6b-int4\", trust_remote_code=True).half().cuda()\n",
        "model = model.eval()\n",
        "\n",
        "**2、结尾浏览器启动设置：**\n",
        "\n",
        "demo.queue().launch(share=True, inbrowser=True)\n",
        "\n"
      ],
      "metadata": {
        "id": "f4-spZB24_4G"
      }
    },
    {
      "cell_type": "code",
      "execution_count": null,
      "metadata": {
        "id": "WEgJ-L5-jya8"
      },
      "outputs": [],
      "source": [
        "#@title 3、做完以上修改运行使用\n",
        "%cd /content/ChatGLM2-6B\n",
        "#!python web_demo.py\n",
        "!python web_demo.py --listen"
      ]
    }
  ],
  "metadata": {
    "accelerator": "GPU",
    "colab": {
      "provenance": [],
      "gpuType": "T4",
      "include_colab_link": true
    },
    "kernelspec": {
      "display_name": "Python 3",
      "name": "python3"
    },
    "language_info": {
      "name": "python"
    }
  },
  "nbformat": 4,
  "nbformat_minor": 0
}